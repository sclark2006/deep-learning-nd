{
 "cells": [
  {
   "cell_type": "markdown",
   "metadata": {},
   "source": [
    "# Generative Adversarial Network\n",
    "\n",
    "In this notebook, we'll be building a generative adversarial network (GAN) trained on the MNIST dataset. From this, we'll be able to generate new handwritten digits!\n",
    "\n",
    "GANs were [first reported on](https://arxiv.org/abs/1406.2661) in 2014 from Ian Goodfellow and others in Yoshua Bengio's lab. Since then, GANs have exploded in popularity. Here are a few examples to check out:\n",
    "\n",
    "* [Pix2Pix](https://affinelayer.com/pixsrv/) \n",
    "* [CycleGAN & Pix2Pix in PyTorch, Jun-Yan Zhu](https://github.com/junyanz/pytorch-CycleGAN-and-pix2pix)\n",
    "* [A list of generative models](https://github.com/wiseodd/generative-models)\n",
    "\n",
    "The idea behind GANs is that you have two networks, a generator $G$ and a discriminator $D$, competing against each other. The generator makes \"fake\" data to pass to the discriminator. The discriminator also sees real training data and predicts if the data it's received is real or fake. \n",
    "> * The generator is trained to fool the discriminator, it wants to output data that looks _as close as possible_ to real, training data. \n",
    "* The discriminator is a classifier that is trained to figure out which data is real and which is fake. \n",
    "\n",
    "What ends up happening is that the generator learns to make data that is indistinguishable from real data to the discriminator.\n",
    "\n",
    "<img src='assets/gan_pipeline.png' width=70% />\n",
    "\n",
    "The general structure of a GAN is shown in the diagram above, using MNIST images as data. The latent sample is a random vector that the generator uses to construct its fake images. This is often called a **latent vector** and that vector space is called **latent space**. As the generator trains, it figures out how to map latent vectors to recognizable images that can fool the discriminator.\n",
    "\n",
    "If you're interested in generating only new images, you can throw out the discriminator after training. In this notebook, I'll show you how to define and train these adversarial networks in PyTorch and generate new images!"
   ]
  },
  {
   "cell_type": "code",
   "execution_count": 1,
   "metadata": {},
   "outputs": [],
   "source": [
    "%matplotlib inline\n",
    "\n",
    "import numpy as np\n",
    "import torch\n",
    "import matplotlib.pyplot as plt"
   ]
  },
  {
   "cell_type": "code",
   "execution_count": 2,
   "metadata": {},
   "outputs": [],
   "source": [
    "from torchvision import datasets\n",
    "import torchvision.transforms as transforms\n",
    "\n",
    "# number of subprocesses to use for data loading\n",
    "num_workers = 0\n",
    "# how many samples per batch to load\n",
    "batch_size = 64\n",
    "\n",
    "# convert data to torch.FloatTensor\n",
    "transform = transforms.ToTensor()\n",
    "\n",
    "# get the training datasets\n",
    "train_data = datasets.MNIST(root='data', train=True,\n",
    "                                   download=True, transform=transform)\n",
    "\n",
    "# prepare data loader\n",
    "train_loader = torch.utils.data.DataLoader(train_data, batch_size=batch_size,\n",
    "                                           num_workers=num_workers)"
   ]
  },
  {
   "cell_type": "markdown",
   "metadata": {},
   "source": [
    "### Visualize the data"
   ]
  },
  {
   "cell_type": "code",
   "execution_count": 3,
   "metadata": {},
   "outputs": [
    {
     "data": {
      "text/plain": [
       "<matplotlib.image.AxesImage at 0x7f2061ea7630>"
      ]
     },
     "execution_count": 3,
     "metadata": {},
     "output_type": "execute_result"
    },
    {
     "data": {
      "image/png": "[encoded data removed]",
      "text/plain": [
       "<matplotlib.figure.Figure at 0x7f2061ee9f28>"
      ]
     },
     "metadata": {
      "needs_background": "light"
     },
     "output_type": "display_data"
    }
   ],
   "source": [
    "# obtain one batch of training images\n",
    "dataiter = iter(train_loader)\n",
    "images, labels = dataiter.next()\n",
    "images = images.numpy()\n",
    "\n",
    "# get one image from the batch\n",
    "img = np.squeeze(images[0])\n",
    "\n",
    "fig = plt.figure(figsize = (3,3)) \n",
    "ax = fig.add_subplot(111)\n",
    "ax.imshow(img, cmap='gray')"
   ]
  },
  {
   "cell_type": "markdown",
   "metadata": {},
   "source": [
    "---\n",
    "# Define the Model\n",
    "\n",
    "A GAN is comprised of two adversarial networks, a discriminator and a generator."
   ]
  },
  {
   "cell_type": "markdown",
   "metadata": {},
   "source": [
    "## Discriminator\n",
    "\n",
    "The discriminator network is going to be a pretty typical linear classifier. To make this network a universal function approximator, we'll need at least one hidden layer, and these hidden layers should have one key attribute:\n",
    "> All hidden layers will have a [Leaky ReLu](https://pytorch.org/docs/stable/nn.html#torch.nn.LeakyReLU) activation function applied to their outputs.\n",
    "\n",
    "<img src='assets/gan_network.png' width=70% />\n",
    "\n",
    "#### Leaky ReLu\n",
    "\n",
    "We should use a leaky ReLU to allow gradients to flow backwards through the layer unimpeded. A leaky ReLU is like a normal ReLU, except that there is a small non-zero output for negative input values.\n",
    "\n",
    "<img src='assets/leaky_relu.png' width=40% />\n",
    "\n",
    "#### Sigmoid Output\n",
    "\n",
    "We'll also take the approach of using a more numerically stable loss function on the outputs. Recall that we want the discriminator to output a value 0-1 indicating whether an image is _real or fake_. \n",
    "> We will ultimately use [BCEWithLogitsLoss](https://pytorch.org/docs/stable/nn.html#bcewithlogitsloss), which combines a `sigmoid` activation function **and** and binary cross entropy loss in one function. \n",
    "\n",
    "So, our final output layer should not have any activation function applied to it."
   ]
  },
  {
   "cell_type": "code",
   "execution_count": 4,
   "metadata": {},
   "outputs": [],
   "source": [
    "import torch.nn as nn\n",
    "import torch.nn.functional as F\n",
    "\n",
    "class Discriminator(nn.Module):\n",
    "\n",
    "    def __init__(self, input_size, hidden_dim, output_size):\n",
    "        super(Discriminator, self).__init__()\n",
    "        \n",
    "        self.input_size = input_size\n",
    "        self.hidden_dim = hidden_dim\n",
    "        self.output_size = output_size\n",
    "        # define all layers\n",
    "        self.fc1 = nn.Linear(input_size, hidden_dim*2)\n",
    "        self.fc2 = nn.Linear(hidden_dim*2, hidden_dim)\n",
    "        self.fc3 = nn.Linear(hidden_dim, output_size) \n",
    "        self.drop = nn.Dropout(0.5)\n",
    "    def forward(self, x):\n",
    "        # flatten image\n",
    "        x = x.view(-1, self.input_size)\n",
    "\n",
    "        # pass x through all layers\n",
    "        # apply leaky relu activation to all hidden layers\n",
    "        x = F.leaky_relu(self.fc1(x), negative_slope=0.2)\n",
    "        x = self.drop(x)\n",
    "        x = F.leaky_relu(self.fc2(x), negative_slope=0.2)\n",
    "        x = self.drop(x)\n",
    "        x = self.fc3(x) #no sigmoid here since it'll be included in the loss computation\n",
    "        return x\n"
   ]
  },
  {
   "cell_type": "markdown",
   "metadata": {},
   "source": [
    "## Generator\n",
    "\n",
    "The generator network will be almost exactly the same as the discriminator network, except that we're applying a [tanh activation function](https://pytorch.org/docs/stable/nn.html#tanh) to our output layer.\n",
    "\n",
    "#### tanh Output\n",
    "The generator has been found to perform the best with $tanh$ for the generator output, which scales the output to be between -1 and 1, instead of 0 and 1. \n",
    "\n",
    "<img src='assets/tanh_fn.png' width=40% />\n",
    "\n",
    "Recall that we also want these outputs to be comparable to the *real* input pixel values, which are read in as normalized values between 0 and 1. \n",
    "> So, we'll also have to **scale our real input images to have pixel values between -1 and 1** when we train the discriminator. \n",
    "\n",
    "I'll do this in the training loop, later on."
   ]
  },
  {
   "cell_type": "code",
   "execution_count": 5,
   "metadata": {},
   "outputs": [],
   "source": [
    "class Generator(nn.Module):\n",
    "\n",
    "    def __init__(self, input_size, hidden_dim, output_size):\n",
    "        super(Generator, self).__init__()\n",
    "    \n",
    "        self.input_size = input_size\n",
    "        self.hidden_dim = hidden_dim\n",
    "        self.output_size = output_size\n",
    "        # define all layers\n",
    "        #Reverse the structure of the discriminator\n",
    "        self.fc1 = nn.Linear(input_size, hidden_dim)\n",
    "        self.fc2 = nn.Linear(hidden_dim, hidden_dim*2)\n",
    "        self.fc3 = nn.Linear(hidden_dim*2, output_size)\n",
    "        self.drop = nn.Dropout(0.5)\n",
    "\n",
    "    def forward(self, x):\n",
    "        # pass x through all layers\n",
    "        x = F.leaky_relu(self.fc1(x), negative_slope=0.2)\n",
    "        x = self.drop(x)\n",
    "        x = F.leaky_relu(self.fc2(x), negative_slope=0.2)\n",
    "        x = self.drop(x)\n",
    "        # final layer should have tanh applied\n",
    "        x = torch.tanh(self.fc3(x))\n",
    "        return x"
   ]
  },
  {
   "cell_type": "markdown",
   "metadata": {},
   "source": [
    "## Model hyperparameters"
   ]
  },
  {
   "cell_type": "code",
   "execution_count": 6,
   "metadata": {},
   "outputs": [],
   "source": [
    "# Discriminator hyperparams\n",
    "\n",
    "# Size of input image to discriminator (28*28)\n",
    "input_size = 28*28\n",
    "# Size of discriminator output (real or fake)\n",
    "d_output_size = 1\n",
    "# Size of *last* hidden layer in the discriminator\n",
    "d_hidden_size = 32\n",
    "\n",
    "# Generator hyperparams\n",
    "\n",
    "# Size of latent vector to give to generator\n",
    "z_size = 100\n",
    "# Size of discriminator output (generated image)\n",
    "g_output_size = 28*28\n",
    "# Size of *first* hidden layer in the generator\n",
    "g_hidden_size = d_hidden_size"
   ]
  },
  {
   "cell_type": "markdown",
   "metadata": {},
   "source": [
    "## Build complete network\n",
    "\n",
    "Now we're instantiating the discriminator and generator from the classes defined above. Make sure you've passed in the correct input arguments."
   ]
  },
  {
   "cell_type": "code",
   "execution_count": 7,
   "metadata": {},
   "outputs": [
    {
     "name": "stdout",
     "output_type": "stream",
     "text": [
      "Discriminator(\n",
      "  (fc1): Linear(in_features=784, out_features=64, bias=True)\n",
      "  (fc2): Linear(in_features=64, out_features=32, bias=True)\n",
      "  (fc3): Linear(in_features=32, out_features=1, bias=True)\n",
      "  (drop): Dropout(p=0.5)\n",
      ")\n",
      "\n",
      "Generator(\n",
      "  (fc1): Linear(in_features=100, out_features=32, bias=True)\n",
      "  (fc2): Linear(in_features=32, out_features=64, bias=True)\n",
      "  (fc3): Linear(in_features=64, out_features=784, bias=True)\n",
      "  (drop): Dropout(p=0.5)\n",
      ")\n"
     ]
    }
   ],
   "source": [
    "# instantiate discriminator and generator\n",
    "D = Discriminator(input_size, d_hidden_size, d_output_size)\n",
    "G = Generator(z_size, g_hidden_size, g_output_size)\n",
    "\n",
    "# check that they are as you expect\n",
    "print(D)\n",
    "print()\n",
    "print(G)"
   ]
  },
  {
   "cell_type": "markdown",
   "metadata": {},
   "source": [
    "---\n",
    "## Discriminator and Generator Losses\n",
    "\n",
    "Now we need to calculate the losses. \n",
    "\n",
    "### Discriminator Losses\n",
    "\n",
    "> * For the discriminator, the total loss is the sum of the losses for real and fake images, `d_loss = d_real_loss + d_fake_loss`. \n",
    "* Remember that we want the discriminator to output 1 for real images and 0 for fake images, so we need to set up the losses to reflect that.\n",
    "\n",
    "<img src='assets/gan_pipeline.png' width=70% />\n",
    "\n",
    "The losses will by binary cross entropy loss with logits, which we can get with [BCEWithLogitsLoss](https://pytorch.org/docs/stable/nn.html#bcewithlogitsloss). This combines a `sigmoid` activation function **and** and binary cross entropy loss in one function.\n",
    "\n",
    "For the real images, we want `D(real_images) = 1`. That is, we want the discriminator to classify the the real images with a label = 1, indicating that these are real. To help the discriminator generalize better, the labels are **reduced a bit from 1.0 to 0.9**. For this, we'll use the parameter `smooth`; if True, then we should smooth our labels. In PyTorch, this looks like `labels = torch.ones(size) * 0.9`\n",
    "\n",
    "The discriminator loss for the fake data is similar. We want `D(fake_images) = 0`, where the fake images are the _generator output_, `fake_images = G(z)`. \n",
    "\n",
    "### Generator Loss\n",
    "\n",
    "The generator loss will look similar only with flipped labels. The generator's goal is to get `D(fake_images) = 1`. In this case, the labels are **flipped** to represent that the generator is trying to fool the discriminator into thinking that the images it generates (fakes) are real!"
   ]
  },
  {
   "cell_type": "code",
   "execution_count": 8,
   "metadata": {},
   "outputs": [],
   "source": [
    "# Calculate losses\n",
    "def real_loss(D_out, smooth=False):\n",
    "    # compare logits to real labels\n",
    "    # smooth labels if smooth=True\n",
    "    labels = torch.ones(D_out.size(0)) * (0.9 if smooth else 1)\n",
    "    loss = F.binary_cross_entropy_with_logits(D_out.squeeze(), labels)\n",
    "    return loss\n",
    "\n",
    "def fake_loss(D_out):\n",
    "    # compare logits to fake labels\n",
    "    labels = torch.zeros(D_out.size(0))\n",
    "    loss = F.binary_cross_entropy_with_logits(D_out.squeeze(), labels)\n",
    "    return loss"
   ]
  },
  {
   "cell_type": "markdown",
   "metadata": {},
   "source": [
    "## Optimizers\n",
    "\n",
    "We want to update the generator and discriminator variables separately. So, we'll define two separate Adam optimizers."
   ]
  },
  {
   "cell_type": "code",
   "execution_count": 9,
   "metadata": {
    "scrolled": true
   },
   "outputs": [],
   "source": [
    "import torch.optim as optim\n",
    "\n",
    "# learning rate for optimizers\n",
    "lr = 0.002\n",
    "\n",
    "# Create optimizers for the discriminator and generator\n",
    "d_optimizer = optim.Adam(D.parameters(), lr)\n",
    "g_optimizer = optim.Adam(G.parameters(), lr)"
   ]
  },
  {
   "cell_type": "markdown",
   "metadata": {},
   "source": [
    "---\n",
    "## Training\n",
    "\n",
    "Training will involve alternating between training the discriminator and the generator. We'll use our functions `real_loss` and `fake_loss` to help us calculate the discriminator losses in all of the following cases.\n",
    "\n",
    "### Discriminator training\n",
    "1. Compute the discriminator loss on real, training images        \n",
    "2. Generate fake images\n",
    "3. Compute the discriminator loss on fake, generated images     \n",
    "4. Add up real and fake loss\n",
    "5. Perform backpropagation + an optimization step to update the discriminator's weights\n",
    "\n",
    "### Generator training\n",
    "1. Generate fake images\n",
    "2. Compute the discriminator loss on fake images, using **flipped** labels!\n",
    "3. Perform backpropagation + an optimization step to update the generator's weights\n",
    "\n",
    "#### Saving Samples\n",
    "\n",
    "As we train, we'll also print out some loss statistics and save some generated \"fake\" samples."
   ]
  },
  {
   "cell_type": "code",
   "execution_count": 10,
   "metadata": {
    "scrolled": true
   },
   "outputs": [
    {
     "name": "stdout",
     "output_type": "stream",
     "text": [
      "Epoch [    1/  100] | d_loss: 1.3795 | g_loss: 0.7187\n",
      "Epoch [    1/  100] | d_loss: 0.5118 | g_loss: 4.4912\n",
      "Epoch [    1/  100] | d_loss: 0.7221 | g_loss: 3.7269\n",
      "Epoch [    2/  100] | d_loss: 0.7738 | g_loss: 3.6698\n",
      "Epoch [    2/  100] | d_loss: 1.0907 | g_loss: 1.6501\n",
      "Epoch [    2/  100] | d_loss: 1.0307 | g_loss: 1.6224\n",
      "Epoch [    3/  100] | d_loss: 1.2727 | g_loss: 1.2966\n",
      "Epoch [    3/  100] | d_loss: 0.9775 | g_loss: 2.0686\n",
      "Epoch [    3/  100] | d_loss: 1.0270 | g_loss: 1.9153\n",
      "Epoch [    4/  100] | d_loss: 1.0949 | g_loss: 1.1977\n",
      "Epoch [    4/  100] | d_loss: 1.2672 | g_loss: 1.0915\n",
      "Epoch [    4/  100] | d_loss: 1.2503 | g_loss: 1.2797\n",
      "Epoch [    5/  100] | d_loss: 1.3591 | g_loss: 1.2548\n",
      "Epoch [    5/  100] | d_loss: 1.1767 | g_loss: 1.1778\n",
      "Epoch [    5/  100] | d_loss: 1.4390 | g_loss: 0.8965\n",
      "Epoch [    6/  100] | d_loss: 1.2754 | g_loss: 0.9806\n",
      "Epoch [    6/  100] | d_loss: 1.2532 | g_loss: 0.9488\n",
      "Epoch [    6/  100] | d_loss: 1.3256 | g_loss: 0.8697\n",
      "Epoch [    7/  100] | d_loss: 1.3156 | g_loss: 1.0119\n",
      "Epoch [    7/  100] | d_loss: 1.2705 | g_loss: 0.9217\n",
      "Epoch [    7/  100] | d_loss: 1.2944 | g_loss: 1.1305\n",
      "Epoch [    8/  100] | d_loss: 1.3470 | g_loss: 0.9702\n",
      "Epoch [    8/  100] | d_loss: 1.2815 | g_loss: 0.9479\n",
      "Epoch [    8/  100] | d_loss: 1.3911 | g_loss: 0.6710\n",
      "Epoch [    9/  100] | d_loss: 1.3623 | g_loss: 0.8606\n",
      "Epoch [    9/  100] | d_loss: 1.3295 | g_loss: 0.9823\n",
      "Epoch [    9/  100] | d_loss: 1.3818 | g_loss: 0.7977\n",
      "Epoch [   10/  100] | d_loss: 1.3316 | g_loss: 0.8784\n",
      "Epoch [   10/  100] | d_loss: 1.4007 | g_loss: 0.8117\n",
      "Epoch [   10/  100] | d_loss: 1.3605 | g_loss: 0.7328\n",
      "Epoch [   11/  100] | d_loss: 1.3764 | g_loss: 0.8462\n",
      "Epoch [   11/  100] | d_loss: 1.3332 | g_loss: 0.8292\n",
      "Epoch [   11/  100] | d_loss: 1.3763 | g_loss: 0.9056\n",
      "Epoch [   12/  100] | d_loss: 1.4122 | g_loss: 0.8285\n",
      "Epoch [   12/  100] | d_loss: 1.3072 | g_loss: 1.1665\n",
      "Epoch [   12/  100] | d_loss: 1.3283 | g_loss: 1.0300\n",
      "Epoch [   13/  100] | d_loss: 1.3048 | g_loss: 0.8887\n",
      "Epoch [   13/  100] | d_loss: 1.3170 | g_loss: 1.0508\n",
      "Epoch [   13/  100] | d_loss: 1.3212 | g_loss: 0.8645\n",
      "Epoch [   14/  100] | d_loss: 1.3333 | g_loss: 0.9494\n",
      "Epoch [   14/  100] | d_loss: 1.3113 | g_loss: 0.8692\n",
      "Epoch [   14/  100] | d_loss: 1.4031 | g_loss: 0.8203\n",
      "Epoch [   15/  100] | d_loss: 1.3539 | g_loss: 0.8391\n",
      "Epoch [   15/  100] | d_loss: 1.3411 | g_loss: 0.8550\n",
      "Epoch [   15/  100] | d_loss: 1.3960 | g_loss: 0.8682\n",
      "Epoch [   16/  100] | d_loss: 1.3822 | g_loss: 0.9309\n",
      "Epoch [   16/  100] | d_loss: 1.3498 | g_loss: 0.8309\n",
      "Epoch [   16/  100] | d_loss: 1.3980 | g_loss: 0.9173\n",
      "Epoch [   17/  100] | d_loss: 1.2676 | g_loss: 0.9368\n",
      "Epoch [   17/  100] | d_loss: 1.2728 | g_loss: 1.0726\n",
      "Epoch [   17/  100] | d_loss: 1.3272 | g_loss: 0.8731\n",
      "Epoch [   18/  100] | d_loss: 1.3829 | g_loss: 0.8461\n",
      "Epoch [   18/  100] | d_loss: 1.3766 | g_loss: 0.8288\n",
      "Epoch [   18/  100] | d_loss: 1.4029 | g_loss: 0.8382\n",
      "Epoch [   19/  100] | d_loss: 1.3167 | g_loss: 0.8202\n",
      "Epoch [   19/  100] | d_loss: 1.3307 | g_loss: 0.8918\n",
      "Epoch [   19/  100] | d_loss: 1.4452 | g_loss: 0.9332\n",
      "Epoch [   20/  100] | d_loss: 1.3256 | g_loss: 0.9694\n",
      "Epoch [   20/  100] | d_loss: 1.3164 | g_loss: 0.9202\n",
      "Epoch [   20/  100] | d_loss: 1.3749 | g_loss: 0.7810\n",
      "Epoch [   21/  100] | d_loss: 1.2979 | g_loss: 0.7754\n",
      "Epoch [   21/  100] | d_loss: 1.3502 | g_loss: 0.8698\n",
      "Epoch [   21/  100] | d_loss: 1.4309 | g_loss: 0.9370\n",
      "Epoch [   22/  100] | d_loss: 1.3482 | g_loss: 1.0116\n",
      "Epoch [   22/  100] | d_loss: 1.3449 | g_loss: 0.8750\n",
      "Epoch [   22/  100] | d_loss: 1.3851 | g_loss: 0.8310\n",
      "Epoch [   23/  100] | d_loss: 1.3069 | g_loss: 0.8925\n",
      "Epoch [   23/  100] | d_loss: 1.3775 | g_loss: 0.7871\n",
      "Epoch [   23/  100] | d_loss: 1.3237 | g_loss: 0.8325\n",
      "Epoch [   24/  100] | d_loss: 1.4321 | g_loss: 0.9039\n",
      "Epoch [   24/  100] | d_loss: 1.3267 | g_loss: 0.9116\n",
      "Epoch [   24/  100] | d_loss: 1.4703 | g_loss: 0.9300\n",
      "Epoch [   25/  100] | d_loss: 1.4776 | g_loss: 1.0349\n",
      "Epoch [   25/  100] | d_loss: 1.3267 | g_loss: 0.8688\n",
      "Epoch [   25/  100] | d_loss: 1.3346 | g_loss: 0.9542\n",
      "Epoch [   26/  100] | d_loss: 1.2883 | g_loss: 0.9767\n",
      "Epoch [   26/  100] | d_loss: 1.3589 | g_loss: 1.0018\n",
      "Epoch [   26/  100] | d_loss: 1.3125 | g_loss: 0.8651\n",
      "Epoch [   27/  100] | d_loss: 1.3877 | g_loss: 0.8504\n",
      "Epoch [   27/  100] | d_loss: 1.3094 | g_loss: 0.8885\n",
      "Epoch [   27/  100] | d_loss: 1.3803 | g_loss: 0.8188\n",
      "Epoch [   28/  100] | d_loss: 1.3082 | g_loss: 0.8855\n",
      "Epoch [   28/  100] | d_loss: 1.3452 | g_loss: 0.9641\n",
      "Epoch [   28/  100] | d_loss: 1.3601 | g_loss: 0.8061\n",
      "Epoch [   29/  100] | d_loss: 1.2963 | g_loss: 0.8977\n",
      "Epoch [   29/  100] | d_loss: 1.3741 | g_loss: 0.9630\n",
      "Epoch [   29/  100] | d_loss: 1.3446 | g_loss: 0.8389\n",
      "Epoch [   30/  100] | d_loss: 1.3505 | g_loss: 0.9078\n",
      "Epoch [   30/  100] | d_loss: 1.3546 | g_loss: 0.7972\n",
      "Epoch [   30/  100] | d_loss: 1.3670 | g_loss: 0.9634\n",
      "Epoch [   31/  100] | d_loss: 1.4134 | g_loss: 0.9939\n",
      "Epoch [   31/  100] | d_loss: 1.3523 | g_loss: 0.9466\n",
      "Epoch [   31/  100] | d_loss: 1.3624 | g_loss: 0.8912\n",
      "Epoch [   32/  100] | d_loss: 1.3429 | g_loss: 0.9449\n",
      "Epoch [   32/  100] | d_loss: 1.3349 | g_loss: 1.0356\n",
      "Epoch [   32/  100] | d_loss: 1.3413 | g_loss: 0.8300\n",
      "Epoch [   33/  100] | d_loss: 1.3425 | g_loss: 0.9002\n",
      "Epoch [   33/  100] | d_loss: 1.3407 | g_loss: 0.9063\n",
      "Epoch [   33/  100] | d_loss: 1.3240 | g_loss: 0.8921\n",
      "Epoch [   34/  100] | d_loss: 1.4109 | g_loss: 0.9541\n",
      "Epoch [   34/  100] | d_loss: 1.3273 | g_loss: 0.9437\n",
      "Epoch [   34/  100] | d_loss: 1.3933 | g_loss: 0.8519\n",
      "Epoch [   35/  100] | d_loss: 1.3769 | g_loss: 0.8049\n",
      "Epoch [   35/  100] | d_loss: 1.3555 | g_loss: 0.7917\n",
      "Epoch [   35/  100] | d_loss: 1.4160 | g_loss: 0.7828\n",
      "Epoch [   36/  100] | d_loss: 1.3972 | g_loss: 1.1758\n",
      "Epoch [   36/  100] | d_loss: 1.3932 | g_loss: 0.7856\n",
      "Epoch [   36/  100] | d_loss: 1.2948 | g_loss: 0.9007\n",
      "Epoch [   37/  100] | d_loss: 1.3644 | g_loss: 0.7800\n",
      "Epoch [   37/  100] | d_loss: 1.4041 | g_loss: 0.8785\n",
      "Epoch [   37/  100] | d_loss: 1.4516 | g_loss: 0.7016\n",
      "Epoch [   38/  100] | d_loss: 1.3804 | g_loss: 0.8515\n",
      "Epoch [   38/  100] | d_loss: 1.3480 | g_loss: 0.8912\n",
      "Epoch [   38/  100] | d_loss: 1.3598 | g_loss: 0.7743\n",
      "Epoch [   39/  100] | d_loss: 1.4026 | g_loss: 0.8579\n",
      "Epoch [   39/  100] | d_loss: 1.3959 | g_loss: 0.8022\n",
      "Epoch [   39/  100] | d_loss: 1.4204 | g_loss: 0.8549\n",
      "Epoch [   40/  100] | d_loss: 1.3275 | g_loss: 0.8790\n",
      "Epoch [   40/  100] | d_loss: 1.3805 | g_loss: 0.8131\n",
      "Epoch [   40/  100] | d_loss: 1.3460 | g_loss: 0.8681\n",
      "Epoch [   41/  100] | d_loss: 1.3336 | g_loss: 0.8713\n",
      "Epoch [   41/  100] | d_loss: 1.3485 | g_loss: 0.8682\n",
      "Epoch [   41/  100] | d_loss: 1.3513 | g_loss: 0.8275\n",
      "Epoch [   42/  100] | d_loss: 1.3705 | g_loss: 0.8497\n",
      "Epoch [   42/  100] | d_loss: 1.3739 | g_loss: 0.8335\n",
      "Epoch [   42/  100] | d_loss: 1.3719 | g_loss: 0.8537\n",
      "Epoch [   43/  100] | d_loss: 1.3641 | g_loss: 0.8842\n",
      "Epoch [   43/  100] | d_loss: 1.3397 | g_loss: 0.9335\n",
      "Epoch [   43/  100] | d_loss: 1.3602 | g_loss: 0.9081\n",
      "Epoch [   44/  100] | d_loss: 1.4354 | g_loss: 0.8592\n",
      "Epoch [   44/  100] | d_loss: 1.3586 | g_loss: 0.8759\n",
      "Epoch [   44/  100] | d_loss: 1.3823 | g_loss: 0.8078\n",
      "Epoch [   45/  100] | d_loss: 1.3709 | g_loss: 0.9093\n",
      "Epoch [   45/  100] | d_loss: 1.3537 | g_loss: 0.8772\n",
      "Epoch [   45/  100] | d_loss: 1.3436 | g_loss: 0.9358\n",
      "Epoch [   46/  100] | d_loss: 1.2536 | g_loss: 1.0271\n",
      "Epoch [   46/  100] | d_loss: 1.3474 | g_loss: 0.8132\n",
      "Epoch [   46/  100] | d_loss: 1.3922 | g_loss: 0.9231\n",
      "Epoch [   47/  100] | d_loss: 1.3855 | g_loss: 0.8529\n",
      "Epoch [   47/  100] | d_loss: 1.3364 | g_loss: 0.8743\n",
      "Epoch [   47/  100] | d_loss: 1.3520 | g_loss: 0.7915\n",
      "Epoch [   48/  100] | d_loss: 1.3489 | g_loss: 0.8181\n",
      "Epoch [   48/  100] | d_loss: 1.3599 | g_loss: 0.8314\n",
      "Epoch [   48/  100] | d_loss: 1.3217 | g_loss: 0.9018\n",
      "Epoch [   49/  100] | d_loss: 1.4085 | g_loss: 0.8853\n",
      "Epoch [   49/  100] | d_loss: 1.3434 | g_loss: 0.8688\n",
      "Epoch [   49/  100] | d_loss: 1.3512 | g_loss: 0.8776\n",
      "Epoch [   50/  100] | d_loss: 1.3552 | g_loss: 0.7680\n",
      "Epoch [   50/  100] | d_loss: 1.3407 | g_loss: 0.8281\n",
      "Epoch [   50/  100] | d_loss: 1.3445 | g_loss: 0.9248\n",
      "Epoch [   51/  100] | d_loss: 1.3414 | g_loss: 0.9677\n",
      "Epoch [   51/  100] | d_loss: 1.4447 | g_loss: 0.7474\n",
      "Epoch [   51/  100] | d_loss: 1.3234 | g_loss: 0.8941\n",
      "Epoch [   52/  100] | d_loss: 1.3378 | g_loss: 0.8631\n",
      "Epoch [   52/  100] | d_loss: 1.3398 | g_loss: 0.8276\n",
      "Epoch [   52/  100] | d_loss: 1.3548 | g_loss: 0.9370\n",
      "Epoch [   53/  100] | d_loss: 1.3762 | g_loss: 0.8265\n",
      "Epoch [   53/  100] | d_loss: 1.3539 | g_loss: 0.7692\n",
      "Epoch [   53/  100] | d_loss: 1.4600 | g_loss: 0.8496\n",
      "Epoch [   54/  100] | d_loss: 1.3791 | g_loss: 0.8680\n",
      "Epoch [   54/  100] | d_loss: 1.3655 | g_loss: 0.8232\n",
      "Epoch [   54/  100] | d_loss: 1.3533 | g_loss: 0.8093\n",
      "Epoch [   55/  100] | d_loss: 1.3500 | g_loss: 0.8952\n",
      "Epoch [   55/  100] | d_loss: 1.3630 | g_loss: 0.8216\n",
      "Epoch [   55/  100] | d_loss: 1.4263 | g_loss: 0.9323\n",
      "Epoch [   56/  100] | d_loss: 1.3802 | g_loss: 0.8267\n",
      "Epoch [   56/  100] | d_loss: 1.3369 | g_loss: 0.8738\n",
      "Epoch [   56/  100] | d_loss: 1.3969 | g_loss: 0.6796\n",
      "Epoch [   57/  100] | d_loss: 1.3949 | g_loss: 0.7740\n",
      "Epoch [   57/  100] | d_loss: 1.3803 | g_loss: 0.8571\n",
      "Epoch [   57/  100] | d_loss: 1.3563 | g_loss: 0.8066\n",
      "Epoch [   58/  100] | d_loss: 1.3647 | g_loss: 0.8744\n",
      "Epoch [   58/  100] | d_loss: 1.3472 | g_loss: 0.9452\n",
      "Epoch [   58/  100] | d_loss: 1.3745 | g_loss: 0.8432\n",
      "Epoch [   59/  100] | d_loss: 1.3435 | g_loss: 0.8778\n",
      "Epoch [   59/  100] | d_loss: 1.3829 | g_loss: 0.8056\n",
      "Epoch [   59/  100] | d_loss: 1.3769 | g_loss: 0.9118\n",
      "Epoch [   60/  100] | d_loss: 1.3655 | g_loss: 0.8477\n",
      "Epoch [   60/  100] | d_loss: 1.3656 | g_loss: 0.8623\n",
      "Epoch [   60/  100] | d_loss: 1.3141 | g_loss: 0.8290\n",
      "Epoch [   61/  100] | d_loss: 1.3525 | g_loss: 0.9163\n",
      "Epoch [   61/  100] | d_loss: 1.3551 | g_loss: 0.8194\n",
      "Epoch [   61/  100] | d_loss: 1.3986 | g_loss: 0.8148\n",
      "Epoch [   62/  100] | d_loss: 1.3559 | g_loss: 0.8756\n",
      "Epoch [   62/  100] | d_loss: 1.2942 | g_loss: 0.8373\n",
      "Epoch [   62/  100] | d_loss: 1.2853 | g_loss: 0.9815\n",
      "Epoch [   63/  100] | d_loss: 1.2963 | g_loss: 0.9046\n",
      "Epoch [   63/  100] | d_loss: 1.3448 | g_loss: 0.8549\n",
      "Epoch [   63/  100] | d_loss: 1.3371 | g_loss: 0.8206\n",
      "Epoch [   64/  100] | d_loss: 1.2781 | g_loss: 1.0755\n",
      "Epoch [   64/  100] | d_loss: 1.3341 | g_loss: 0.8859\n",
      "Epoch [   64/  100] | d_loss: 1.2957 | g_loss: 0.8808\n",
      "Epoch [   65/  100] | d_loss: 1.4438 | g_loss: 0.8398\n",
      "Epoch [   65/  100] | d_loss: 1.3340 | g_loss: 0.8832\n",
      "Epoch [   65/  100] | d_loss: 1.3543 | g_loss: 0.8832\n",
      "Epoch [   66/  100] | d_loss: 1.2971 | g_loss: 0.8012\n",
      "Epoch [   66/  100] | d_loss: 1.3562 | g_loss: 0.8106\n",
      "Epoch [   66/  100] | d_loss: 1.3282 | g_loss: 0.8761\n",
      "Epoch [   67/  100] | d_loss: 1.4250 | g_loss: 0.9838\n",
      "Epoch [   67/  100] | d_loss: 1.3517 | g_loss: 0.7926\n",
      "Epoch [   67/  100] | d_loss: 1.3638 | g_loss: 0.7524\n",
      "Epoch [   68/  100] | d_loss: 1.3575 | g_loss: 0.8410\n",
      "Epoch [   68/  100] | d_loss: 1.3809 | g_loss: 0.8360\n",
      "Epoch [   68/  100] | d_loss: 1.3251 | g_loss: 1.0062\n",
      "Epoch [   69/  100] | d_loss: 1.3615 | g_loss: 0.8493\n",
      "Epoch [   69/  100] | d_loss: 1.3018 | g_loss: 0.9676\n",
      "Epoch [   69/  100] | d_loss: 1.3071 | g_loss: 0.8163\n",
      "Epoch [   70/  100] | d_loss: 1.3555 | g_loss: 0.9145\n",
      "Epoch [   70/  100] | d_loss: 1.3475 | g_loss: 0.8331\n",
      "Epoch [   70/  100] | d_loss: 1.2879 | g_loss: 1.0841\n",
      "Epoch [   71/  100] | d_loss: 1.3734 | g_loss: 0.9249\n",
      "Epoch [   71/  100] | d_loss: 1.3164 | g_loss: 0.9185\n",
      "Epoch [   71/  100] | d_loss: 1.3833 | g_loss: 0.7752\n",
      "Epoch [   72/  100] | d_loss: 1.3860 | g_loss: 0.9613\n",
      "Epoch [   72/  100] | d_loss: 1.3205 | g_loss: 0.8142\n",
      "Epoch [   72/  100] | d_loss: 1.4003 | g_loss: 0.8014\n",
      "Epoch [   73/  100] | d_loss: 1.3813 | g_loss: 0.8895\n",
      "Epoch [   73/  100] | d_loss: 1.3762 | g_loss: 0.8543\n",
      "Epoch [   73/  100] | d_loss: 1.3246 | g_loss: 0.7910\n",
      "Epoch [   74/  100] | d_loss: 1.3351 | g_loss: 1.0779\n",
      "Epoch [   74/  100] | d_loss: 1.3992 | g_loss: 0.8305\n",
      "Epoch [   74/  100] | d_loss: 1.4098 | g_loss: 1.0172\n",
      "Epoch [   75/  100] | d_loss: 1.3477 | g_loss: 0.8917\n",
      "Epoch [   75/  100] | d_loss: 1.3889 | g_loss: 0.8188\n",
      "Epoch [   75/  100] | d_loss: 1.3910 | g_loss: 0.7765\n",
      "Epoch [   76/  100] | d_loss: 1.3930 | g_loss: 0.8644\n",
      "Epoch [   76/  100] | d_loss: 1.3758 | g_loss: 0.8709\n",
      "Epoch [   76/  100] | d_loss: 1.3382 | g_loss: 0.9785\n",
      "Epoch [   77/  100] | d_loss: 1.3390 | g_loss: 1.0386\n",
      "Epoch [   77/  100] | d_loss: 1.3287 | g_loss: 1.2370\n",
      "Epoch [   77/  100] | d_loss: 1.3625 | g_loss: 0.8174\n",
      "Epoch [   78/  100] | d_loss: 1.3600 | g_loss: 0.8614\n",
      "Epoch [   78/  100] | d_loss: 1.2961 | g_loss: 0.8120\n",
      "Epoch [   78/  100] | d_loss: 1.3469 | g_loss: 0.9052\n",
      "Epoch [   79/  100] | d_loss: 1.4456 | g_loss: 0.7126\n",
      "Epoch [   79/  100] | d_loss: 1.3538 | g_loss: 0.8719\n",
      "Epoch [   79/  100] | d_loss: 1.3553 | g_loss: 0.8296\n",
      "Epoch [   80/  100] | d_loss: 1.3479 | g_loss: 0.8202\n",
      "Epoch [   80/  100] | d_loss: 1.3613 | g_loss: 0.7770\n",
      "Epoch [   80/  100] | d_loss: 1.4101 | g_loss: 0.8239\n",
      "Epoch [   81/  100] | d_loss: 1.3349 | g_loss: 0.7779\n",
      "Epoch [   81/  100] | d_loss: 1.3867 | g_loss: 0.8313\n",
      "Epoch [   81/  100] | d_loss: 1.4047 | g_loss: 0.8348\n",
      "Epoch [   82/  100] | d_loss: 1.3015 | g_loss: 0.9700\n",
      "Epoch [   82/  100] | d_loss: 1.3796 | g_loss: 1.1248\n",
      "Epoch [   82/  100] | d_loss: 1.3820 | g_loss: 0.8664\n",
      "Epoch [   83/  100] | d_loss: 1.3498 | g_loss: 0.9214\n",
      "Epoch [   83/  100] | d_loss: 1.3795 | g_loss: 0.8329\n",
      "Epoch [   83/  100] | d_loss: 1.3220 | g_loss: 0.9488\n",
      "Epoch [   84/  100] | d_loss: 1.3786 | g_loss: 0.9193\n",
      "Epoch [   84/  100] | d_loss: 1.3377 | g_loss: 0.9190\n",
      "Epoch [   84/  100] | d_loss: 1.3924 | g_loss: 0.8410\n",
      "Epoch [   85/  100] | d_loss: 1.2991 | g_loss: 1.2837\n",
      "Epoch [   85/  100] | d_loss: 1.4039 | g_loss: 0.8089\n",
      "Epoch [   85/  100] | d_loss: 1.2781 | g_loss: 0.8395\n",
      "Epoch [   86/  100] | d_loss: 1.3297 | g_loss: 0.8838\n",
      "Epoch [   86/  100] | d_loss: 1.3630 | g_loss: 0.8993\n",
      "Epoch [   86/  100] | d_loss: 1.3650 | g_loss: 0.8235\n",
      "Epoch [   87/  100] | d_loss: 1.3658 | g_loss: 0.8790\n",
      "Epoch [   87/  100] | d_loss: 1.3986 | g_loss: 0.7534\n",
      "Epoch [   87/  100] | d_loss: 1.3708 | g_loss: 0.8672\n",
      "Epoch [   88/  100] | d_loss: 1.4116 | g_loss: 0.8845\n",
      "Epoch [   88/  100] | d_loss: 1.3677 | g_loss: 0.7837\n",
      "Epoch [   88/  100] | d_loss: 1.3624 | g_loss: 0.8384\n",
      "Epoch [   89/  100] | d_loss: 1.3615 | g_loss: 0.7904\n",
      "Epoch [   89/  100] | d_loss: 1.3671 | g_loss: 0.7651\n",
      "Epoch [   89/  100] | d_loss: 1.3668 | g_loss: 0.8331\n",
      "Epoch [   90/  100] | d_loss: 1.3182 | g_loss: 0.8457\n",
      "Epoch [   90/  100] | d_loss: 1.3342 | g_loss: 0.8242\n",
      "Epoch [   90/  100] | d_loss: 1.3765 | g_loss: 0.8278\n",
      "Epoch [   91/  100] | d_loss: 1.3010 | g_loss: 0.8247\n",
      "Epoch [   91/  100] | d_loss: 1.3923 | g_loss: 0.9054\n",
      "Epoch [   91/  100] | d_loss: 1.3500 | g_loss: 0.8765\n",
      "Epoch [   92/  100] | d_loss: 1.3409 | g_loss: 0.7777\n",
      "Epoch [   92/  100] | d_loss: 1.4322 | g_loss: 0.8519\n",
      "Epoch [   92/  100] | d_loss: 1.3434 | g_loss: 0.9374\n",
      "Epoch [   93/  100] | d_loss: 1.3571 | g_loss: 0.8381\n",
      "Epoch [   93/  100] | d_loss: 1.3511 | g_loss: 1.1513\n",
      "Epoch [   93/  100] | d_loss: 1.3649 | g_loss: 0.8220\n",
      "Epoch [   94/  100] | d_loss: 1.3055 | g_loss: 0.9221\n",
      "Epoch [   94/  100] | d_loss: 1.3666 | g_loss: 0.8345\n",
      "Epoch [   94/  100] | d_loss: 1.3620 | g_loss: 0.8013\n",
      "Epoch [   95/  100] | d_loss: 1.3645 | g_loss: 0.9495\n",
      "Epoch [   95/  100] | d_loss: 1.3175 | g_loss: 0.8175\n",
      "Epoch [   95/  100] | d_loss: 1.4089 | g_loss: 0.8442\n",
      "Epoch [   96/  100] | d_loss: 1.3762 | g_loss: 0.8555\n",
      "Epoch [   96/  100] | d_loss: 1.4112 | g_loss: 0.8448\n",
      "Epoch [   96/  100] | d_loss: 1.3771 | g_loss: 0.9545\n",
      "Epoch [   97/  100] | d_loss: 1.3669 | g_loss: 0.7353\n",
      "Epoch [   97/  100] | d_loss: 1.3432 | g_loss: 0.7775\n",
      "Epoch [   97/  100] | d_loss: 1.4045 | g_loss: 0.8144\n",
      "Epoch [   98/  100] | d_loss: 1.4540 | g_loss: 0.7629\n",
      "Epoch [   98/  100] | d_loss: 1.3991 | g_loss: 0.7644\n",
      "Epoch [   98/  100] | d_loss: 1.4883 | g_loss: 0.8596\n",
      "Epoch [   99/  100] | d_loss: 1.3560 | g_loss: 0.7572\n",
      "Epoch [   99/  100] | d_loss: 1.3432 | g_loss: 0.9158\n",
      "Epoch [   99/  100] | d_loss: 1.3674 | g_loss: 0.8742\n",
      "Epoch [  100/  100] | d_loss: 1.4238 | g_loss: 0.8155\n",
      "Epoch [  100/  100] | d_loss: 1.4237 | g_loss: 0.8686\n",
      "Epoch [  100/  100] | d_loss: 1.3675 | g_loss: 0.8263\n"
     ]
    }
   ],
   "source": [
    "import pickle as pkl\n",
    "\n",
    "# training hyperparams\n",
    "num_epochs = 100\n",
    "\n",
    "# keep track of loss and generated, \"fake\" samples\n",
    "samples = []\n",
    "losses = []\n",
    "\n",
    "print_every = 400\n",
    "\n",
    "# Get some fixed data for sampling. These are images that are held\n",
    "# constant throughout training, and allow us to inspect the model's performance\n",
    "sample_size=16\n",
    "fixed_z = np.random.uniform(-1, 1, size=(sample_size, z_size))\n",
    "fixed_z = torch.from_numpy(fixed_z).float()\n",
    "\n",
    "# train the network\n",
    "D.train()\n",
    "G.train()\n",
    "for epoch in range(num_epochs):\n",
    "    \n",
    "    for batch_i, (real_images, _) in enumerate(train_loader):\n",
    "                \n",
    "        batch_size = real_images.size(0)\n",
    "        \n",
    "        ## Important rescaling step ## \n",
    "        real_images = real_images*2 - 1  # rescale input images from [0,1) to [-1, 1)\n",
    "        \n",
    "        # ============================================\n",
    "        #            TRAIN THE DISCRIMINATOR\n",
    "        # ============================================\n",
    "        d_optimizer.zero_grad()        \n",
    "        # 1. Train with real images\n",
    "\n",
    "        # Compute the discriminator losses on real images\n",
    "        # use smoothed labels\n",
    "        D_real = D(real_images)\n",
    "        d_real_loss = real_loss(D_real, smooth=True)\n",
    "        # 2. Train with fake images\n",
    "        \n",
    "        # Generate fake images\n",
    "        z = np.random.uniform(-1, 1, size=(batch_size, z_size))\n",
    "        z = torch.from_numpy(z).float()\n",
    "        fake_images = G(z)\n",
    "        \n",
    "        # Compute the discriminator losses on fake images        \n",
    "        D_fake = D(fake_images)\n",
    "        d_fake_loss = fake_loss(D_fake)\n",
    "        # add up real and fake losses and perform backprop\n",
    "        d_loss = d_real_loss + d_fake_loss\n",
    "        d_loss.backward()\n",
    "        d_optimizer.step()\n",
    "        \n",
    "        # =========================================\n",
    "        #            TRAIN THE GENERATOR\n",
    "        # =========================================\n",
    "        g_optimizer.zero_grad()\n",
    "        # 1. Train with fake images and flipped labels\n",
    "        \n",
    "        # Generate fake images\n",
    "        z = np.random.uniform(-1, 1, size=(batch_size, z_size))\n",
    "        z = torch.from_numpy(z).float()\n",
    "        fake_images = G(z)\n",
    "        # Compute the discriminator losses on fake images \n",
    "        # using flipped labels!\n",
    "        D_fake = D(fake_images)\n",
    "        g_loss = real_loss(D_fake)\n",
    "        # perform backprop\n",
    "        g_loss.backward()\n",
    "        g_optimizer.step()\n",
    "        \n",
    "\n",
    "        # Print some loss stats\n",
    "        if batch_i % print_every == 0:\n",
    "            # print discriminator and generator loss\n",
    "            print('Epoch [{:5d}/{:5d}] | d_loss: {:6.4f} | g_loss: {:6.4f}'.format(\n",
    "                    epoch+1, num_epochs, d_loss.item(), g_loss.item()))\n",
    "\n",
    "    \n",
    "    ## AFTER EACH EPOCH##\n",
    "    # append discriminator loss and generator loss\n",
    "    losses.append((d_loss.item(), g_loss.item()))\n",
    "    \n",
    "    # generate and save sample, fake images\n",
    "    G.eval() # eval mode for generating samples\n",
    "    samples_z = G(fixed_z)\n",
    "    samples.append(samples_z)\n",
    "    G.train() # back to train mode\n",
    "\n",
    "\n",
    "# Save training generator samples\n",
    "with open('train_samples.pkl', 'wb') as f:\n",
    "    pkl.dump(samples, f)"
   ]
  },
  {
   "cell_type": "markdown",
   "metadata": {},
   "source": [
    "## Training loss\n",
    "\n",
    "Here we'll plot the training losses for the generator and discriminator, recorded after each epoch."
   ]
  },
  {
   "cell_type": "code",
   "execution_count": 11,
   "metadata": {},
   "outputs": [
    {
     "data": {
      "text/plain": [
       "<matplotlib.legend.Legend at 0x7f20531e49e8>"
      ]
     },
     "execution_count": 11,
     "metadata": {},
     "output_type": "execute_result"
    },
    {
     "data": {
      "image/png": "[encoded data removed]",
      "text/plain": [
       "<matplotlib.figure.Figure at 0x7f2061e8c828>"
      ]
     },
     "metadata": {
      "needs_background": "light"
     },
     "output_type": "display_data"
    }
   ],
   "source": [
    "fig, ax = plt.subplots()\n",
    "losses = np.array(losses)\n",
    "plt.plot(losses.T[0], label='Discriminator')\n",
    "plt.plot(losses.T[1], label='Generator')\n",
    "plt.title(\"Training Losses\")\n",
    "plt.legend()"
   ]
  },
  {
   "cell_type": "markdown",
   "metadata": {},
   "source": [
    "## Generator samples from training\n",
    "\n",
    "Here we can view samples of images from the generator. First we'll look at the images we saved during training."
   ]
  },
  {
   "cell_type": "code",
   "execution_count": 12,
   "metadata": {},
   "outputs": [],
   "source": [
    "# helper function for viewing a list of passed in sample images\n",
    "def view_samples(epoch, samples):\n",
    "    fig, axes = plt.subplots(figsize=(7,7), nrows=4, ncols=4, sharey=True, sharex=True)\n",
    "    for ax, img in zip(axes.flatten(), samples[epoch]):\n",
    "        img = img.detach()\n",
    "        ax.xaxis.set_visible(False)\n",
    "        ax.yaxis.set_visible(False)\n",
    "        im = ax.imshow(img.reshape((28,28)), cmap='Greys_r')"
   ]
  },
  {
   "cell_type": "code",
   "execution_count": 13,
   "metadata": {},
   "outputs": [],
   "source": [
    "# Load samples from generator, taken while training\n",
    "with open('train_samples.pkl', 'rb') as f:\n",
    "    samples = pkl.load(f)"
   ]
  },
  {
   "cell_type": "markdown",
   "metadata": {},
   "source": [
    "These are samples from the final training epoch. You can see the generator is able to reproduce numbers like 1, 7, 3, 2. Since this is just a sample, it isn't representative of the full range of images this generator can make."
   ]
  },
  {
   "cell_type": "code",
   "execution_count": 14,
   "metadata": {},
   "outputs": [
    {
     "data": {
      "image/png": "[encoded data removed]",
      "text/plain": [
       "<matplotlib.figure.Figure at 0x7f20b03227f0>"
      ]
     },
     "metadata": {
      "needs_background": "light"
     },
     "output_type": "display_data"
    }
   ],
   "source": [
    "# -1 indicates final epoch's samples (the last in the list)\n",
    "view_samples(-1, samples)"
   ]
  },
  {
   "cell_type": "markdown",
   "metadata": {},
   "source": [
    "Below I'm showing the generated images as the network was training, every 10 epochs."
   ]
  },
  {
   "cell_type": "code",
   "execution_count": 15,
   "metadata": {},
   "outputs": [
    {
     "data": {
      "image/png": "[encoded data removed]",
      "text/plain": [
       "<matplotlib.figure.Figure at 0x7f2058c63048>"
      ]
     },
     "metadata": {
      "needs_background": "light"
     },
     "output_type": "display_data"
    }
   ],
   "source": [
    "rows = 10 # split epochs into 10, so 100/10 = every 10 epochs\n",
    "cols = 6\n",
    "fig, axes = plt.subplots(figsize=(7,12), nrows=rows, ncols=cols, sharex=True, sharey=True)\n",
    "\n",
    "for sample, ax_row in zip(samples[::int(len(samples)/rows)], axes):\n",
    "    for img, ax in zip(sample[::int(len(sample)/cols)], ax_row):\n",
    "        img = img.detach()\n",
    "        ax.imshow(img.reshape((28,28)), cmap='Greys_r')\n",
    "        ax.xaxis.set_visible(False)\n",
    "        ax.yaxis.set_visible(False)"
   ]
  },
  {
   "cell_type": "markdown",
   "metadata": {},
   "source": [
    "It starts out as all noise. Then it learns to make only the center white and the rest black. You can start to see some number like structures appear out of the noise like 1s and 9s."
   ]
  },
  {
   "cell_type": "markdown",
   "metadata": {},
   "source": [
    "## Sampling from the generator\n",
    "\n",
    "We can also get completely new images from the generator by using the checkpoint we saved after training. **We just need to pass in a new latent vector $z$ and we'll get new samples**!"
   ]
  },
  {
   "cell_type": "code",
   "execution_count": 16,
   "metadata": {},
   "outputs": [
    {
     "data": {
      "image/png": "[encoded data removed]",
      "text/plain": [
       "<matplotlib.figure.Figure at 0x7f2053f59b38>"
      ]
     },
     "metadata": {
      "needs_background": "light"
     },
     "output_type": "display_data"
    }
   ],
   "source": [
    "# randomly generated, new latent vectors\n",
    "sample_size=16\n",
    "rand_z = np.random.uniform(-1, 1, size=(sample_size, z_size))\n",
    "rand_z = torch.from_numpy(rand_z).float()\n",
    "\n",
    "G.eval() # eval mode\n",
    "# generated samples\n",
    "rand_images = G(rand_z)\n",
    "\n",
    "# 0 indicates the first set of samples in the passed in list\n",
    "# and we only have one batch of samples, here\n",
    "view_samples(0, [rand_images])"
   ]
  }
 ],
 "metadata": {
  "kernelspec": {
   "display_name": "Python 3",
   "language": "python",
   "name": "python3"
  },
  "language_info": {
   "codemirror_mode": {
    "name": "ipython",
    "version": 3
   },
   "file_extension": ".py",
   "mimetype": "text/x-python",
   "name": "python",
   "nbconvert_exporter": "python",
   "pygments_lexer": "ipython3",
   "version": "3.6.3"
  }
 },
 "nbformat": 4,
 "nbformat_minor": 2
}
